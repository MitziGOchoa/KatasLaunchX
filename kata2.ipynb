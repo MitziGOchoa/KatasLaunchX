{
 "cells": [
  {
   "cell_type": "markdown",
   "metadata": {},
   "source": [
    "# Kata 2."
   ]
  },
  {
   "cell_type": "markdown",
   "metadata": {},
   "source": [
    "***Este archivo es un reporte del trabajo realizado durante la kata 2 del programa LaunchX. Todas las instrucciones acontinuacion presentadas fueron ejecutadas en SO Windows***"
   ]
  },
  {
   "cell_type": "markdown",
   "metadata": {},
   "source": [
    "### Creacion de un entorno virtual\n",
    "\n",
    "Por medio de la terminal accedimos a la carpeta donde deseamos almacenar nuestro archivo. Una vez ahí, tecleamos las instrucciones `python -m venv env` para crear nuestro entorno virtual.\n"
   ]
  },
  {
   "cell_type": "markdown",
   "metadata": {},
   "source": [
    "### Activar el entorno virtual\n",
    "\n",
    "Creado previamente el entorno virtual, y permaneciendo en la misma carpeta, podemos proceder a activarlo escribiendo el comando `env\\Scripts\\activate`\n",
    "\n",
    "Una vez que el entorno virtual se encuentra activo, aparecera al inicio de la linea de comandos la palabra `(env)`, como se muestra en el siguiente ejemplo:\n",
    "\n",
    "* Antes de la activación del entorno virtual:\n",
    "\n",
    "    `C:\\Users\\Medusa\\Desktop\\LaunchX\\env\\Scripts\\activate`\n",
    "\n",
    "* Una vez activado el entorno virtual:\n",
    "\n",
    "    `(env) C:\\Users\\Medusa\\Desktop\\LaunchX\\`"
   ]
  },
  {
   "cell_type": "markdown",
   "metadata": {},
   "source": [
    "### Instalar una biblioteca en el entorno virtual\n",
    "\n",
    "Para ejemplificar la instalacion de una biblioteca en el entorno virtual ejecutamos el comando `pip install python-dateutil` para instalar la biblioteca python-dateutil, misma que proporciona poderosas extensiones al módulo estándar de fecha y hora , disponible en Python.\n",
    "Con el objetivo de confirmar la instalación de la biblioteca ejecutamos el comando `pip freeze` el cual nos permite observar las bibliotecas instaladas\n"
   ]
  },
  {
   "cell_type": "markdown",
   "metadata": {},
   "source": [
    "### Salir del entorno virtual\n",
    "\n",
    "Para salir del entorno virtual ejecutamos el comando `deactivate`"
   ]
  }
 ],
 "metadata": {
  "interpreter": {
   "hash": "42329f3d98d299f9bf565d56e05940c94ac1ceafeb4591856d3cea96836577b1"
  },
  "kernelspec": {
   "display_name": "Python 3.10.2 64-bit",
   "language": "python",
   "name": "python3"
  },
  "language_info": {
   "name": "python",
   "version": "3.10.2"
  },
  "orig_nbformat": 4
 },
 "nbformat": 4,
 "nbformat_minor": 2
}
