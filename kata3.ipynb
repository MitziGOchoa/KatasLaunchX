{
 "cells": [
  {
   "cell_type": "markdown",
   "metadata": {},
   "source": [
    "# Kata 3."
   ]
  },
  {
   "cell_type": "markdown",
   "metadata": {},
   "source": [
    "### Declaracion if, else y elif"
   ]
  },
  {
   "cell_type": "markdown",
   "metadata": {},
   "source": [
    "Escribir una lógica condicional que imprima una advertencia si un asteroide se acerca a la Tierra demasiado rápido. \n",
    "Cualquier velocidad superior a 25 kilómetros por segundo (km/s) merece una advertencia."
   ]
  },
  {
   "cell_type": "code",
   "execution_count": null,
   "metadata": {},
   "outputs": [],
   "source": [
    "Velocidad_asteroide = input(\"Ingrese la velocidad del asteroide\")\n",
    "kVel_asteroide=25.0                                                         #Velocidad de asteroide que merece una advertencia\n",
    "\n",
    "if float(Velocidad_asteroide)>kVel_asteroide:\n",
    "    print(\"Alerta! Se ha detectado un asteroide que se acerca con una velocidad peligrosa\")\n",
    "else:\n",
    "    print(\"La velocidad del asteroide es de:\" , Velocidad_asteroide , \"km/s y no se considera una velocidad peligrosa\")"
   ]
  },
  {
   "cell_type": "markdown",
   "metadata": {},
   "source": [
    "Si un asteroide entra en la atmósfera de la Tierra a una velocidad mayor o igual a 20 km/s, a veces produce un rayo de luz que se puede ver desde la Tierra. Escribe la lógica condicional para alertar a las personas de todo el mundo que deben buscar un asteroide en el cielo"
   ]
  },
  {
   "cell_type": "code",
   "execution_count": null,
   "metadata": {},
   "outputs": [],
   "source": [
    "Velocidad_asteroide = input(\"Ingrese la velocidad del asteroide\")\n",
    "Vel_brillo=20.0                                                         #Velocidad a la cual un asteroide presenta un brillo\n",
    "\n",
    "if float(Velocidad_asteroide)<Vel_brillo:\n",
    "    print(\"El cielo esta tranquilo\")\n",
    "else:\n",
    "    print(\"Mira hacia el cielo! Esta pasando una estrella fugaz\")"
   ]
  },
  {
   "cell_type": "markdown",
   "metadata": {},
   "source": [
    "### Uso de operadores AND y OR"
   ]
  },
  {
   "cell_type": "markdown",
   "metadata": {},
   "source": [
    "Ejercicio:\n",
    "- Escribir una lógica condicional que imprima una advertencia si un asteroide se acerca a la Tierra demasiado rápido. Cualquier velocidad superior a 25 kilómetros por segundo (km/s) merece una advertencia.\n"
   ]
  },
  {
   "cell_type": "markdown",
   "metadata": {},
   "source": [
    "- Si un asteroide entra en la atmósfera de la Tierra a una velocidad mayor o igual a 20 km/s, a veces produce un rayo de luz que se puede ver desde la Tierra. Escribe la lógica condicional para alertar a las personas de todo el mundo que deben buscar un asteroide en el cielo\n"
   ]
  },
  {
   "cell_type": "markdown",
   "metadata": {},
   "source": [
    "- Escribir una lógica condicional que imprima una advertencia si un asteroide es más grande que 25 metros. Considerese que si un asteroide mayor de 25 metros pero más pequeño que 1000 metros golpeara la Tierra, causaría mucho daño.\n"
   ]
  },
  {
   "cell_type": "code",
   "execution_count": 19,
   "metadata": {},
   "outputs": [
    {
     "name": "stdout",
     "output_type": "stream",
     "text": [
      "Mira hacia el cielo! Esta pasando una estrella fugaz\n"
     ]
    }
   ],
   "source": [
    "Velocidad_asteroide = input(\"Ingrese la velocidad del asteroide\")\n",
    "tam_asteroide=input(\"Ingrese el tamaño del asteroide\")\n",
    "Vel_brillo=20.0                                                         #Velocidad a la cual un asteroide presenta un brillo\n",
    "kVel_asteroide=25.0                                                     #Velocidad despues de la cual un asteroide se vuelve riesgoso\n",
    "ktam=25.0                                                               #Tamaño despues del cual el asteroide se vuelve riesgoso\n",
    "\n",
    "if float(Velocidad_asteroide)>kVel_asteroide or float(tam_asteroide)>ktam:\n",
    "    print(\"Alerta! Se ha detectado un asteroide peligroso\")\n",
    "elif float(Velocidad_asteroide)<Vel_brillo:\n",
    "    print(\"El cielo esta tranquilo\")\n",
    "else:\n",
    "    print(\"Mira hacia el cielo! Esta pasando una estrella fugaz\")"
   ]
  }
 ],
 "metadata": {
  "interpreter": {
   "hash": "42329f3d98d299f9bf565d56e05940c94ac1ceafeb4591856d3cea96836577b1"
  },
  "kernelspec": {
   "display_name": "Python 3.10.2 64-bit",
   "language": "python",
   "name": "python3"
  },
  "language_info": {
   "codemirror_mode": {
    "name": "ipython",
    "version": 3
   },
   "file_extension": ".py",
   "mimetype": "text/x-python",
   "name": "python",
   "nbconvert_exporter": "python",
   "pygments_lexer": "ipython3",
   "version": "3.10.2"
  },
  "orig_nbformat": 4
 },
 "nbformat": 4,
 "nbformat_minor": 2
}
