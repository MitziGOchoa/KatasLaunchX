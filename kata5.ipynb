{
 "cells": [
  {
   "cell_type": "markdown",
   "metadata": {},
   "source": [
    "# Kata 5."
   ]
  },
  {
   "cell_type": "markdown",
   "metadata": {},
   "source": [
    "### Ejercicio 1\n",
    "Crear un programa que pueda calcular la distancia entre dos planetas.  \n",
    "Utilizar la distancia de los planetas: Tierra (149.597.870 km) y Júpiter (778.547.200 km)."
   ]
  },
  {
   "cell_type": "markdown",
   "metadata": {},
   "source": [
    "*Declaración y almacenamiento de las variables*"
   ]
  },
  {
   "cell_type": "code",
   "execution_count": 27,
   "metadata": {},
   "outputs": [],
   "source": [
    "Planet1=float(input(\"Ingresa la posición del primer planeta\"))\n",
    "Planet2=float(input(\"Ingresa la posición del primer planeta\"))"
   ]
  },
  {
   "cell_type": "markdown",
   "metadata": {},
   "source": [
    "*Operaciones matematicas*"
   ]
  },
  {
   "cell_type": "code",
   "execution_count": 28,
   "metadata": {},
   "outputs": [
    {
     "name": "stdout",
     "output_type": "stream",
     "text": [
      "The distance between 149597870.0 km and 778547200.0 km is 628949330.0 km\n"
     ]
    }
   ],
   "source": [
    "distance=abs(Planet1 - Planet2)\n",
    "print(\"The distance between\" , Planet1 , \"km and\" , Planet2 , \"km is\" , distance , \"km\")\n"
   ]
  },
  {
   "cell_type": "markdown",
   "metadata": {},
   "source": [
    "Conversion de la distancia en kilómetros a millas multiplicándo la posición por `0.621`."
   ]
  },
  {
   "cell_type": "code",
   "execution_count": 34,
   "metadata": {},
   "outputs": [
    {
     "name": "stdout",
     "output_type": "stream",
     "text": [
      "The distance is 390577533.93 mi\n"
     ]
    }
   ],
   "source": [
    "distance=abs(Planet1 - Planet2)\n",
    "print(\"The distance is\" , distance*0.621 , \"mi\")"
   ]
  },
  {
   "cell_type": "markdown",
   "metadata": {},
   "source": [
    "### Ejercicio 2.\n",
    "Aplicación para trabajar con números de tipo entero y entrada de usuario"
   ]
  },
  {
   "cell_type": "markdown",
   "metadata": {},
   "source": [
    "*Declaración y almacenamiento de las variables*"
   ]
  },
  {
   "cell_type": "code",
   "execution_count": 35,
   "metadata": {},
   "outputs": [],
   "source": [
    "Planet1=int(input(\"Ingresa la posición del primer planeta\"))\n",
    "Planet2=int(input(\"Ingresa la posición del primer planeta\"))"
   ]
  },
  {
   "cell_type": "markdown",
   "metadata": {},
   "source": [
    "*Operaciones matematicas*"
   ]
  },
  {
   "cell_type": "code",
   "execution_count": 36,
   "metadata": {},
   "outputs": [
    {
     "name": "stdout",
     "output_type": "stream",
     "text": [
      "The distance between 149597870 km and 778547200 km is 628949330 km\n"
     ]
    }
   ],
   "source": [
    "distance=abs(Planet1 - Planet2)\n",
    "print(\"The distance between\" , Planet1 , \"km and\" , Planet2 , \"km is\" , distance , \"km\")\n"
   ]
  },
  {
   "cell_type": "markdown",
   "metadata": {},
   "source": [
    "Conversion de la distancia en kilómetros a millas multiplicándo la posición por `0.621`."
   ]
  },
  {
   "cell_type": "code",
   "execution_count": 37,
   "metadata": {},
   "outputs": [
    {
     "name": "stdout",
     "output_type": "stream",
     "text": [
      "The distance is 390577533.93 mi\n"
     ]
    }
   ],
   "source": [
    "distance=abs(Planet1 - Planet2)\n",
    "print(\"The distance is\" , distance*0.621 , \"mi\")"
   ]
  }
 ],
 "metadata": {
  "interpreter": {
   "hash": "42329f3d98d299f9bf565d56e05940c94ac1ceafeb4591856d3cea96836577b1"
  },
  "kernelspec": {
   "display_name": "Python 3.10.2 64-bit",
   "language": "python",
   "name": "python3"
  },
  "language_info": {
   "codemirror_mode": {
    "name": "ipython",
    "version": 3
   },
   "file_extension": ".py",
   "mimetype": "text/x-python",
   "name": "python",
   "nbconvert_exporter": "python",
   "pygments_lexer": "ipython3",
   "version": "3.10.2"
  },
  "orig_nbformat": 4
 },
 "nbformat": 4,
 "nbformat_minor": 2
}
