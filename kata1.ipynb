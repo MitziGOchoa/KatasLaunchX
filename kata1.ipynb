{
 "cells": [
  {
   "cell_type": "markdown",
   "metadata": {},
   "source": [
    "# Kata 1. Tu primer programa"
   ]
  },
  {
   "cell_type": "markdown",
   "metadata": {},
   "source": [
    "### Mostrar fecha\n",
    "Mostrar la fecha del dia"
   ]
  },
  {
   "cell_type": "code",
   "execution_count": 1,
   "metadata": {},
   "outputs": [
    {
     "name": "stdout",
     "output_type": "stream",
     "text": [
      "Today's date is: 2022-02-10\n"
     ]
    }
   ],
   "source": [
    "from datetime import date                                   #De la libreria datetime importamos la funcion date\n",
    "\n",
    "print(\"Today's date is: \" + str(date.today()))              #Para concatenar, convertimos la fecha a tipo de dato cadena\n",
    "                                                            #con el objetivo de evitar errores por tipos de datos incopatibles"
   ]
  },
  {
   "cell_type": "markdown",
   "metadata": {},
   "source": [
    "Otra forma de concatenar, sin convertir el tipo de variable es:"
   ]
  },
  {
   "cell_type": "code",
   "execution_count": 4,
   "metadata": {},
   "outputs": [
    {
     "name": "stdout",
     "output_type": "stream",
     "text": [
      "Today's date is:  2022-02-09\n"
     ]
    }
   ],
   "source": [
    "from datetime import date                                   #De la libreria datetime importamos la funcion date\n",
    "\n",
    "print(\"Today's date is: \" , date.today())                   #Para concatenar y no convertir el tipo de dato de la fecha\n",
    "                                                            #utilizamos ','"
   ]
  },
  {
   "cell_type": "markdown",
   "metadata": {},
   "source": [
    "### Conversión de unidades.\n",
    "Construir un convertidor de unidades"
   ]
  },
  {
   "cell_type": "code",
   "execution_count": 3,
   "metadata": {},
   "outputs": [
    {
     "name": "stdout",
     "output_type": "stream",
     "text": [
      "11 parsec, is 35.8772 lightyears\n"
     ]
    }
   ],
   "source": [
    "parsec = input(\"Enter the value to convert to lightyears (parsec value)\")       #Solicita el valor a convertir\n",
    "klightyears=3.26156                                                             #Variable que almacena el valor de años luz para un parsec\n",
    "lightyears = float(parsec)*klightyears                                          \n",
    "\n",
    "\n",
    "print(str(parsec) + \" parsec, is \" + str(round(lightyears,4)) + \" lightyears\")  #Los años luz se expresan con 4 decimales"
   ]
  },
  {
   "cell_type": "markdown",
   "metadata": {},
   "source": [
    "Tambien se puede utilizar ',' para concatenar sin necesidad de realizar conversion de tipo de dato"
   ]
  },
  {
   "cell_type": "code",
   "execution_count": 7,
   "metadata": {},
   "outputs": [
    {
     "name": "stdout",
     "output_type": "stream",
     "text": [
      "11  parsec, is  35.8772  lightyears\n"
     ]
    }
   ],
   "source": [
    "parsec = input(\"Enter the value to convert to lightyears (parsec value)\")       #Solicita el valor a convertir\n",
    "klightyears=3.26156                                                             #Variable que almacena el valor de años luz para un parsec\n",
    "lightyears = float(parsec)*klightyears                                          \n",
    "\n",
    "\n",
    "print(parsec , \" parsec, is \" , round(lightyears,4) , \" lightyears\")            #Los años luz se expresan con 4 decimales"
   ]
  }
 ],
 "metadata": {
  "interpreter": {
   "hash": "42329f3d98d299f9bf565d56e05940c94ac1ceafeb4591856d3cea96836577b1"
  },
  "kernelspec": {
   "display_name": "Python 3.10.2 64-bit",
   "language": "python",
   "name": "python3"
  },
  "language_info": {
   "codemirror_mode": {
    "name": "ipython",
    "version": 3
   },
   "file_extension": ".py",
   "mimetype": "text/x-python",
   "name": "python",
   "nbconvert_exporter": "python",
   "pygments_lexer": "ipython3",
   "version": "3.10.2"
  },
  "orig_nbformat": 4
 },
 "nbformat": 4,
 "nbformat_minor": 2
}
